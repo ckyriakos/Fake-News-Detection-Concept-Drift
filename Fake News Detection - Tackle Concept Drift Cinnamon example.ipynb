{
 "cells": [
  {
   "cell_type": "markdown",
   "id": "dff302a4",
   "metadata": {},
   "source": [
    "# Fake News Detection\n",
    "\n",
    "### Detect and Tackle Concept Drift\n",
    "\n"
   ]
  },
  {
   "cell_type": "code",
   "execution_count": 1,
   "id": "3f388eaa",
   "metadata": {},
   "outputs": [],
   "source": [
    "import pandas as pd\n",
    "from sklearn.feature_extraction.text import CountVectorizer\n",
    "import matplotlib.pyplot as plt\n",
    "import spacy #tokenizer\n",
    "from spacy.util import minibatch, compounding\n",
    "import random\n",
    "\n",
    "import os, glob\n",
    "import pandas as pd\n",
    "import sklearn\n",
    "import itertools\n",
    "import numpy as np\n",
    "import seaborn as sb\n",
    "import re\n",
    "import nltk\n",
    "import pickle\n",
    "from sklearn.model_selection import train_test_split\n",
    "from sklearn.feature_extraction.text import TfidfVectorizer\n",
    "from sklearn import metrics\n",
    "from sklearn.metrics import auc, accuracy_score, confusion_matrix, mean_squared_error, balanced_accuracy_score\n",
    "from matplotlib import pyplot as plt\n",
    "from sklearn.linear_model import PassiveAggressiveClassifier\n",
    "from nltk.stem import WordNetLemmatizer\n",
    "from nltk.corpus import stopwords"
   ]
  },
  {
   "cell_type": "code",
   "execution_count": 45,
   "id": "fc3d229d",
   "metadata": {},
   "outputs": [],
   "source": []
  },
  {
   "cell_type": "markdown",
   "id": "42eba3da",
   "metadata": {},
   "source": [
    "https://github.com/zelros/cinnamon"
   ]
  },
  {
   "cell_type": "raw",
   "id": "7f210a8d",
   "metadata": {},
   "source": []
  },
  {
   "cell_type": "code",
   "execution_count": 2,
   "id": "b1a99be2",
   "metadata": {},
   "outputs": [
    {
     "data": {
      "text/html": [
       "<div>\n",
       "<style scoped>\n",
       "    .dataframe tbody tr th:only-of-type {\n",
       "        vertical-align: middle;\n",
       "    }\n",
       "\n",
       "    .dataframe tbody tr th {\n",
       "        vertical-align: top;\n",
       "    }\n",
       "\n",
       "    .dataframe thead th {\n",
       "        text-align: right;\n",
       "    }\n",
       "</style>\n",
       "<table border=\"1\" class=\"dataframe\">\n",
       "  <thead>\n",
       "    <tr style=\"text-align: right;\">\n",
       "      <th></th>\n",
       "      <th>id</th>\n",
       "      <th>news_url</th>\n",
       "      <th>title</th>\n",
       "      <th>tweet_ids</th>\n",
       "      <th>label</th>\n",
       "    </tr>\n",
       "  </thead>\n",
       "  <tbody>\n",
       "    <tr>\n",
       "      <th>0</th>\n",
       "      <td>gossipcop-2493749932</td>\n",
       "      <td>www.dailymail.co.uk/tvshowbiz/article-5874213/...</td>\n",
       "      <td>Did Miley Cyrus and Liam Hemsworth secretly ge...</td>\n",
       "      <td>284329075902926848\\t284332744559968256\\t284335...</td>\n",
       "      <td>FAKE</td>\n",
       "    </tr>\n",
       "    <tr>\n",
       "      <th>1</th>\n",
       "      <td>gossipcop-4580247171</td>\n",
       "      <td>hollywoodlife.com/2018/05/05/paris-jackson-car...</td>\n",
       "      <td>Paris Jackson &amp; Cara Delevingne Enjoy Night Ou...</td>\n",
       "      <td>992895508267130880\\t992897935418503169\\t992899...</td>\n",
       "      <td>FAKE</td>\n",
       "    </tr>\n",
       "    <tr>\n",
       "      <th>2</th>\n",
       "      <td>gossipcop-941805037</td>\n",
       "      <td>variety.com/2017/biz/news/tax-march-donald-tru...</td>\n",
       "      <td>Celebrities Join Tax March in Protest of Donal...</td>\n",
       "      <td>853359353532829696\\t853359576543920128\\t853359...</td>\n",
       "      <td>FAKE</td>\n",
       "    </tr>\n",
       "    <tr>\n",
       "      <th>3</th>\n",
       "      <td>gossipcop-2547891536</td>\n",
       "      <td>www.dailymail.co.uk/femail/article-3499192/Do-...</td>\n",
       "      <td>Cindy Crawford's daughter Kaia Gerber wears a ...</td>\n",
       "      <td>988821905196158981\\t988824206556172288\\t988825...</td>\n",
       "      <td>FAKE</td>\n",
       "    </tr>\n",
       "    <tr>\n",
       "      <th>4</th>\n",
       "      <td>gossipcop-5476631226</td>\n",
       "      <td>variety.com/2018/film/news/list-2018-oscar-nom...</td>\n",
       "      <td>Full List of 2018 Oscar Nominations – Variety</td>\n",
       "      <td>955792793632432131\\t955795063925301249\\t955798...</td>\n",
       "      <td>FAKE</td>\n",
       "    </tr>\n",
       "    <tr>\n",
       "      <th>...</th>\n",
       "      <td>...</td>\n",
       "      <td>...</td>\n",
       "      <td>...</td>\n",
       "      <td>...</td>\n",
       "      <td>...</td>\n",
       "    </tr>\n",
       "    <tr>\n",
       "      <th>23191</th>\n",
       "      <td>politifact14731</td>\n",
       "      <td>https://www.flake.senate.gov/public/index.cfm/...</td>\n",
       "      <td>Flake: “Religious tests should have no place i...</td>\n",
       "      <td>NaN</td>\n",
       "      <td>REAL</td>\n",
       "    </tr>\n",
       "    <tr>\n",
       "      <th>23192</th>\n",
       "      <td>politifact329</td>\n",
       "      <td>https://web.archive.org/web/20080131000131/htt...</td>\n",
       "      <td>Change We Can Believe In</td>\n",
       "      <td>634287923135909888\\t946743411100536832\\t946816...</td>\n",
       "      <td>REAL</td>\n",
       "    </tr>\n",
       "    <tr>\n",
       "      <th>23193</th>\n",
       "      <td>politifact1576</td>\n",
       "      <td>http://www.youtube.com/watch?v=4O8CxZ1OD58</td>\n",
       "      <td>deputy director of national health statistics ...</td>\n",
       "      <td>NaN</td>\n",
       "      <td>REAL</td>\n",
       "    </tr>\n",
       "    <tr>\n",
       "      <th>23194</th>\n",
       "      <td>politifact4720</td>\n",
       "      <td>http://www.youtube.com/watch?v=EhyMplwY6HY</td>\n",
       "      <td>Romneys ProLife Conversion Myth or Reality Jun...</td>\n",
       "      <td>188871706637647874</td>\n",
       "      <td>REAL</td>\n",
       "    </tr>\n",
       "    <tr>\n",
       "      <th>23195</th>\n",
       "      <td>politifact52</td>\n",
       "      <td>https://web.archive.org/web/20071102131244/htt...</td>\n",
       "      <td>Interest Group Ratings</td>\n",
       "      <td>1002208963239337984\\t1024651239697666048</td>\n",
       "      <td>REAL</td>\n",
       "    </tr>\n",
       "  </tbody>\n",
       "</table>\n",
       "<p>23196 rows × 5 columns</p>\n",
       "</div>"
      ],
      "text/plain": [
       "                         id  \\\n",
       "0      gossipcop-2493749932   \n",
       "1      gossipcop-4580247171   \n",
       "2       gossipcop-941805037   \n",
       "3      gossipcop-2547891536   \n",
       "4      gossipcop-5476631226   \n",
       "...                     ...   \n",
       "23191       politifact14731   \n",
       "23192         politifact329   \n",
       "23193        politifact1576   \n",
       "23194        politifact4720   \n",
       "23195          politifact52   \n",
       "\n",
       "                                                news_url  \\\n",
       "0      www.dailymail.co.uk/tvshowbiz/article-5874213/...   \n",
       "1      hollywoodlife.com/2018/05/05/paris-jackson-car...   \n",
       "2      variety.com/2017/biz/news/tax-march-donald-tru...   \n",
       "3      www.dailymail.co.uk/femail/article-3499192/Do-...   \n",
       "4      variety.com/2018/film/news/list-2018-oscar-nom...   \n",
       "...                                                  ...   \n",
       "23191  https://www.flake.senate.gov/public/index.cfm/...   \n",
       "23192  https://web.archive.org/web/20080131000131/htt...   \n",
       "23193         http://www.youtube.com/watch?v=4O8CxZ1OD58   \n",
       "23194         http://www.youtube.com/watch?v=EhyMplwY6HY   \n",
       "23195  https://web.archive.org/web/20071102131244/htt...   \n",
       "\n",
       "                                                   title  \\\n",
       "0      Did Miley Cyrus and Liam Hemsworth secretly ge...   \n",
       "1      Paris Jackson & Cara Delevingne Enjoy Night Ou...   \n",
       "2      Celebrities Join Tax March in Protest of Donal...   \n",
       "3      Cindy Crawford's daughter Kaia Gerber wears a ...   \n",
       "4          Full List of 2018 Oscar Nominations – Variety   \n",
       "...                                                  ...   \n",
       "23191  Flake: “Religious tests should have no place i...   \n",
       "23192                           Change We Can Believe In   \n",
       "23193  deputy director of national health statistics ...   \n",
       "23194  Romneys ProLife Conversion Myth or Reality Jun...   \n",
       "23195                             Interest Group Ratings   \n",
       "\n",
       "                                               tweet_ids label  \n",
       "0      284329075902926848\\t284332744559968256\\t284335...  FAKE  \n",
       "1      992895508267130880\\t992897935418503169\\t992899...  FAKE  \n",
       "2      853359353532829696\\t853359576543920128\\t853359...  FAKE  \n",
       "3      988821905196158981\\t988824206556172288\\t988825...  FAKE  \n",
       "4      955792793632432131\\t955795063925301249\\t955798...  FAKE  \n",
       "...                                                  ...   ...  \n",
       "23191                                                NaN  REAL  \n",
       "23192  634287923135909888\\t946743411100536832\\t946816...  REAL  \n",
       "23193                                                NaN  REAL  \n",
       "23194                                 188871706637647874  REAL  \n",
       "23195           1002208963239337984\\t1024651239697666048  REAL  \n",
       "\n",
       "[23196 rows x 5 columns]"
      ]
     },
     "execution_count": 2,
     "metadata": {},
     "output_type": "execute_result"
    }
   ],
   "source": [
    "df=pd.read_csv(\"combined_labeled_csv.csv\") #combined csv for politfact datasets which were not labeled from https://github.com/KaiDMML/FakeNewsNet/tree/master/dataset\n",
    "df"
   ]
  },
  {
   "cell_type": "code",
   "execution_count": 3,
   "id": "1811783e",
   "metadata": {
    "scrolled": true
   },
   "outputs": [
    {
     "data": {
      "text/html": [
       "<div>\n",
       "<style scoped>\n",
       "    .dataframe tbody tr th:only-of-type {\n",
       "        vertical-align: middle;\n",
       "    }\n",
       "\n",
       "    .dataframe tbody tr th {\n",
       "        vertical-align: top;\n",
       "    }\n",
       "\n",
       "    .dataframe thead th {\n",
       "        text-align: right;\n",
       "    }\n",
       "</style>\n",
       "<table border=\"1\" class=\"dataframe\">\n",
       "  <thead>\n",
       "    <tr style=\"text-align: right;\">\n",
       "      <th></th>\n",
       "      <th>Unnamed: 0</th>\n",
       "      <th>title</th>\n",
       "      <th>text</th>\n",
       "      <th>label</th>\n",
       "    </tr>\n",
       "  </thead>\n",
       "  <tbody>\n",
       "    <tr>\n",
       "      <th>0</th>\n",
       "      <td>8476</td>\n",
       "      <td>You Can Smell Hillary’s Fear</td>\n",
       "      <td>Daniel Greenfield, a Shillman Journalism Fello...</td>\n",
       "      <td>FAKE</td>\n",
       "    </tr>\n",
       "    <tr>\n",
       "      <th>1</th>\n",
       "      <td>10294</td>\n",
       "      <td>Watch The Exact Moment Paul Ryan Committed Pol...</td>\n",
       "      <td>Google Pinterest Digg Linkedin Reddit Stumbleu...</td>\n",
       "      <td>FAKE</td>\n",
       "    </tr>\n",
       "    <tr>\n",
       "      <th>2</th>\n",
       "      <td>3608</td>\n",
       "      <td>Kerry to go to Paris in gesture of sympathy</td>\n",
       "      <td>U.S. Secretary of State John F. Kerry said Mon...</td>\n",
       "      <td>REAL</td>\n",
       "    </tr>\n",
       "    <tr>\n",
       "      <th>3</th>\n",
       "      <td>10142</td>\n",
       "      <td>Bernie supporters on Twitter erupt in anger ag...</td>\n",
       "      <td>— Kaydee King (@KaydeeKing) November 9, 2016 T...</td>\n",
       "      <td>FAKE</td>\n",
       "    </tr>\n",
       "    <tr>\n",
       "      <th>4</th>\n",
       "      <td>875</td>\n",
       "      <td>The Battle of New York: Why This Primary Matters</td>\n",
       "      <td>It's primary day in New York and front-runners...</td>\n",
       "      <td>REAL</td>\n",
       "    </tr>\n",
       "    <tr>\n",
       "      <th>...</th>\n",
       "      <td>...</td>\n",
       "      <td>...</td>\n",
       "      <td>...</td>\n",
       "      <td>...</td>\n",
       "    </tr>\n",
       "    <tr>\n",
       "      <th>6330</th>\n",
       "      <td>4490</td>\n",
       "      <td>State Department says it can't find emails fro...</td>\n",
       "      <td>The State Department told the Republican Natio...</td>\n",
       "      <td>REAL</td>\n",
       "    </tr>\n",
       "    <tr>\n",
       "      <th>6331</th>\n",
       "      <td>8062</td>\n",
       "      <td>The ‘P’ in PBS Should Stand for ‘Plutocratic’ ...</td>\n",
       "      <td>The ‘P’ in PBS Should Stand for ‘Plutocratic’ ...</td>\n",
       "      <td>FAKE</td>\n",
       "    </tr>\n",
       "    <tr>\n",
       "      <th>6332</th>\n",
       "      <td>8622</td>\n",
       "      <td>Anti-Trump Protesters Are Tools of the Oligarc...</td>\n",
       "      <td>Anti-Trump Protesters Are Tools of the Oligar...</td>\n",
       "      <td>FAKE</td>\n",
       "    </tr>\n",
       "    <tr>\n",
       "      <th>6333</th>\n",
       "      <td>4021</td>\n",
       "      <td>In Ethiopia, Obama seeks progress on peace, se...</td>\n",
       "      <td>ADDIS ABABA, Ethiopia —President Obama convene...</td>\n",
       "      <td>REAL</td>\n",
       "    </tr>\n",
       "    <tr>\n",
       "      <th>6334</th>\n",
       "      <td>4330</td>\n",
       "      <td>Jeb Bush Is Suddenly Attacking Trump. Here's W...</td>\n",
       "      <td>Jeb Bush Is Suddenly Attacking Trump. Here's W...</td>\n",
       "      <td>REAL</td>\n",
       "    </tr>\n",
       "  </tbody>\n",
       "</table>\n",
       "<p>6335 rows × 4 columns</p>\n",
       "</div>"
      ],
      "text/plain": [
       "      Unnamed: 0                                              title  \\\n",
       "0           8476                       You Can Smell Hillary’s Fear   \n",
       "1          10294  Watch The Exact Moment Paul Ryan Committed Pol...   \n",
       "2           3608        Kerry to go to Paris in gesture of sympathy   \n",
       "3          10142  Bernie supporters on Twitter erupt in anger ag...   \n",
       "4            875   The Battle of New York: Why This Primary Matters   \n",
       "...          ...                                                ...   \n",
       "6330        4490  State Department says it can't find emails fro...   \n",
       "6331        8062  The ‘P’ in PBS Should Stand for ‘Plutocratic’ ...   \n",
       "6332        8622  Anti-Trump Protesters Are Tools of the Oligarc...   \n",
       "6333        4021  In Ethiopia, Obama seeks progress on peace, se...   \n",
       "6334        4330  Jeb Bush Is Suddenly Attacking Trump. Here's W...   \n",
       "\n",
       "                                                   text label  \n",
       "0     Daniel Greenfield, a Shillman Journalism Fello...  FAKE  \n",
       "1     Google Pinterest Digg Linkedin Reddit Stumbleu...  FAKE  \n",
       "2     U.S. Secretary of State John F. Kerry said Mon...  REAL  \n",
       "3     — Kaydee King (@KaydeeKing) November 9, 2016 T...  FAKE  \n",
       "4     It's primary day in New York and front-runners...  REAL  \n",
       "...                                                 ...   ...  \n",
       "6330  The State Department told the Republican Natio...  REAL  \n",
       "6331  The ‘P’ in PBS Should Stand for ‘Plutocratic’ ...  FAKE  \n",
       "6332   Anti-Trump Protesters Are Tools of the Oligar...  FAKE  \n",
       "6333  ADDIS ABABA, Ethiopia —President Obama convene...  REAL  \n",
       "6334  Jeb Bush Is Suddenly Attacking Trump. Here's W...  REAL  \n",
       "\n",
       "[6335 rows x 4 columns]"
      ]
     },
     "execution_count": 3,
     "metadata": {},
     "output_type": "execute_result"
    }
   ],
   "source": [
    "fr=pd.read_csv('fake_or_real_news.csv') # fake_or_real_news dataset from https://www.kaggle.com/datasets/jillanisofttech/fake-or-real-news\n",
    "fr"
   ]
  },
  {
   "cell_type": "markdown",
   "id": "2bc858a7",
   "metadata": {},
   "source": [
    "We create 2 separate dataframes for politifact, one contains the title of the article while the other the text"
   ]
  },
  {
   "cell_type": "markdown",
   "id": "a307b197",
   "metadata": {},
   "source": [
    "# Feature Selection and Preprocess "
   ]
  },
  {
   "cell_type": "code",
   "execution_count": 4,
   "id": "15deae78",
   "metadata": {},
   "outputs": [],
   "source": [
    "df=df.drop('id',axis=1)\n"
   ]
  },
  {
   "cell_type": "code",
   "execution_count": 5,
   "id": "518a4db9",
   "metadata": {},
   "outputs": [],
   "source": [
    "df=df.drop('tweet_ids',axis=1)\n"
   ]
  },
  {
   "cell_type": "code",
   "execution_count": 6,
   "id": "a3d331b6",
   "metadata": {},
   "outputs": [],
   "source": [
    "df=df.drop('news_url',axis=1)"
   ]
  },
  {
   "cell_type": "code",
   "execution_count": 7,
   "id": "f8e823d9",
   "metadata": {},
   "outputs": [
    {
     "data": {
      "text/plain": [
       "(23196, 2)"
      ]
     },
     "execution_count": 7,
     "metadata": {},
     "output_type": "execute_result"
    }
   ],
   "source": [
    "df.shape\n"
   ]
  },
  {
   "cell_type": "code",
   "execution_count": 8,
   "id": "51f939e2",
   "metadata": {},
   "outputs": [
    {
     "data": {
      "text/html": [
       "<div>\n",
       "<style scoped>\n",
       "    .dataframe tbody tr th:only-of-type {\n",
       "        vertical-align: middle;\n",
       "    }\n",
       "\n",
       "    .dataframe tbody tr th {\n",
       "        vertical-align: top;\n",
       "    }\n",
       "\n",
       "    .dataframe thead th {\n",
       "        text-align: right;\n",
       "    }\n",
       "</style>\n",
       "<table border=\"1\" class=\"dataframe\">\n",
       "  <thead>\n",
       "    <tr style=\"text-align: right;\">\n",
       "      <th></th>\n",
       "      <th>text</th>\n",
       "      <th>label</th>\n",
       "    </tr>\n",
       "  </thead>\n",
       "  <tbody>\n",
       "    <tr>\n",
       "      <th>0</th>\n",
       "      <td>Daniel Greenfield, a Shillman Journalism Fello...</td>\n",
       "      <td>FAKE</td>\n",
       "    </tr>\n",
       "    <tr>\n",
       "      <th>1</th>\n",
       "      <td>Google Pinterest Digg Linkedin Reddit Stumbleu...</td>\n",
       "      <td>FAKE</td>\n",
       "    </tr>\n",
       "    <tr>\n",
       "      <th>2</th>\n",
       "      <td>U.S. Secretary of State John F. Kerry said Mon...</td>\n",
       "      <td>REAL</td>\n",
       "    </tr>\n",
       "    <tr>\n",
       "      <th>3</th>\n",
       "      <td>— Kaydee King (@KaydeeKing) November 9, 2016 T...</td>\n",
       "      <td>FAKE</td>\n",
       "    </tr>\n",
       "    <tr>\n",
       "      <th>4</th>\n",
       "      <td>It's primary day in New York and front-runners...</td>\n",
       "      <td>REAL</td>\n",
       "    </tr>\n",
       "    <tr>\n",
       "      <th>...</th>\n",
       "      <td>...</td>\n",
       "      <td>...</td>\n",
       "    </tr>\n",
       "    <tr>\n",
       "      <th>6330</th>\n",
       "      <td>The State Department told the Republican Natio...</td>\n",
       "      <td>REAL</td>\n",
       "    </tr>\n",
       "    <tr>\n",
       "      <th>6331</th>\n",
       "      <td>The ‘P’ in PBS Should Stand for ‘Plutocratic’ ...</td>\n",
       "      <td>FAKE</td>\n",
       "    </tr>\n",
       "    <tr>\n",
       "      <th>6332</th>\n",
       "      <td>Anti-Trump Protesters Are Tools of the Oligar...</td>\n",
       "      <td>FAKE</td>\n",
       "    </tr>\n",
       "    <tr>\n",
       "      <th>6333</th>\n",
       "      <td>ADDIS ABABA, Ethiopia —President Obama convene...</td>\n",
       "      <td>REAL</td>\n",
       "    </tr>\n",
       "    <tr>\n",
       "      <th>6334</th>\n",
       "      <td>Jeb Bush Is Suddenly Attacking Trump. Here's W...</td>\n",
       "      <td>REAL</td>\n",
       "    </tr>\n",
       "  </tbody>\n",
       "</table>\n",
       "<p>6335 rows × 2 columns</p>\n",
       "</div>"
      ],
      "text/plain": [
       "                                                   text label\n",
       "0     Daniel Greenfield, a Shillman Journalism Fello...  FAKE\n",
       "1     Google Pinterest Digg Linkedin Reddit Stumbleu...  FAKE\n",
       "2     U.S. Secretary of State John F. Kerry said Mon...  REAL\n",
       "3     — Kaydee King (@KaydeeKing) November 9, 2016 T...  FAKE\n",
       "4     It's primary day in New York and front-runners...  REAL\n",
       "...                                                 ...   ...\n",
       "6330  The State Department told the Republican Natio...  REAL\n",
       "6331  The ‘P’ in PBS Should Stand for ‘Plutocratic’ ...  FAKE\n",
       "6332   Anti-Trump Protesters Are Tools of the Oligar...  FAKE\n",
       "6333  ADDIS ABABA, Ethiopia —President Obama convene...  REAL\n",
       "6334  Jeb Bush Is Suddenly Attacking Trump. Here's W...  REAL\n",
       "\n",
       "[6335 rows x 2 columns]"
      ]
     },
     "execution_count": 8,
     "metadata": {},
     "output_type": "execute_result"
    }
   ],
   "source": [
    "fr_text=fr.drop('title',axis=1)\n",
    "fr_text.drop(fr.filter(regex=\"Unname\"),axis=1, inplace=True)\n",
    "fr_text"
   ]
  },
  {
   "cell_type": "code",
   "execution_count": null,
   "id": "414c8687",
   "metadata": {},
   "outputs": [],
   "source": []
  },
  {
   "cell_type": "code",
   "execution_count": 8,
   "id": "30c716da",
   "metadata": {},
   "outputs": [],
   "source": [
    "# function to check if the dataset is balanced\n",
    "def create_distribution(dataFile):\n",
    "    return sb.countplot(x='label', data=dataFile, palette='hls')\n",
    "\n",
    "# by calling below we can see that training, test and valid data seems to be failry evenly distributed between the classes\n",
    "\n"
   ]
  },
  {
   "cell_type": "code",
   "execution_count": 10,
   "id": "c635cb82",
   "metadata": {},
   "outputs": [
    {
     "data": {
      "text/plain": [
       "<AxesSubplot:xlabel='label', ylabel='count'>"
      ]
     },
     "execution_count": 10,
     "metadata": {},
     "output_type": "execute_result"
    },
    {
     "data": {
      "image/png": "[encoded data removed]",
      "text/plain": [
       "<Figure size 432x288 with 1 Axes>"
      ]
     },
     "metadata": {
      "needs_background": "light"
     },
     "output_type": "display_data"
    }
   ],
   "source": [
    "# check politifact\n",
    "create_distribution(df)"
   ]
  },
  {
   "cell_type": "code",
   "execution_count": 18,
   "id": "ecc81ec9",
   "metadata": {},
   "outputs": [
    {
     "data": {
      "text/plain": [
       "<AxesSubplot:xlabel='label', ylabel='count'>"
      ]
     },
     "execution_count": 18,
     "metadata": {},
     "output_type": "execute_result"
    },
    {
     "data": {
      "image/png": "[encoded data removed]",
      "text/plain": [
       "<Figure size 432x288 with 1 Axes>"
      ]
     },
     "metadata": {
      "needs_background": "light"
     },
     "output_type": "display_data"
    }
   ],
   "source": [
    "# check fr with text as feature\n",
    "create_distribution(fr_text)"
   ]
  },
  {
   "cell_type": "code",
   "execution_count": 9,
   "id": "d28d5a3b",
   "metadata": {},
   "outputs": [],
   "source": [
    "def data_qualityCheck(data):\n",
    "    print(\"Checking data qualitites...\")\n",
    "    data.isnull().sum()\n",
    "    data.info()  \n",
    "    print(\"check finished.\")\n"
   ]
  },
  {
   "cell_type": "code",
   "execution_count": 20,
   "id": "42a8a973",
   "metadata": {},
   "outputs": [
    {
     "name": "stdout",
     "output_type": "stream",
     "text": [
      "Checking data qualitites...\n",
      "<class 'pandas.core.frame.DataFrame'>\n",
      "RangeIndex: 23196 entries, 0 to 23195\n",
      "Data columns (total 2 columns):\n",
      " #   Column  Non-Null Count  Dtype \n",
      "---  ------  --------------  ----- \n",
      " 0   title   23196 non-null  object\n",
      " 1   label   23196 non-null  object\n",
      "dtypes: object(2)\n",
      "memory usage: 362.6+ KB\n",
      "check finished.\n"
     ]
    }
   ],
   "source": [
    "data_qualityCheck(df)"
   ]
  },
  {
   "cell_type": "code",
   "execution_count": 21,
   "id": "b840580e",
   "metadata": {
    "scrolled": true
   },
   "outputs": [
    {
     "name": "stdout",
     "output_type": "stream",
     "text": [
      "Checking data qualitites...\n",
      "<class 'pandas.core.frame.DataFrame'>\n",
      "RangeIndex: 6335 entries, 0 to 6334\n",
      "Data columns (total 2 columns):\n",
      " #   Column  Non-Null Count  Dtype \n",
      "---  ------  --------------  ----- \n",
      " 0   text    6335 non-null   object\n",
      " 1   label   6335 non-null   object\n",
      "dtypes: object(2)\n",
      "memory usage: 99.1+ KB\n",
      "check finished.\n"
     ]
    }
   ],
   "source": [
    "data_qualityCheck(fr_text)"
   ]
  },
  {
   "cell_type": "code",
   "execution_count": 3,
   "id": "68d4d4bd",
   "metadata": {},
   "outputs": [],
   "source": [
    "lemmatizer = WordNetLemmatizer()\n",
    "stpwrds = list(stopwords.words('english'))"
   ]
  },
  {
   "cell_type": "code",
   "execution_count": 11,
   "id": "0be4a40f",
   "metadata": {},
   "outputs": [],
   "source": [
    "for x in range(len(df)) :\n",
    "    corpus = []\n",
    "    review = df['title'][x]\n",
    "    review = re.sub(r'[^a-zA-Z\\s]', '', review)\n",
    "    review = review.lower()\n",
    "    review = nltk.word_tokenize(review)\n",
    "    for y in review :\n",
    "        if y not in stpwrds :\n",
    "            corpus.append(lemmatizer.lemmatize(y))\n",
    "    review = ' '.join(corpus)\n",
    "    df['title'][x] = review      "
   ]
  },
  {
   "cell_type": "code",
   "execution_count": 24,
   "id": "2d60672d",
   "metadata": {},
   "outputs": [
    {
     "name": "stderr",
     "output_type": "stream",
     "text": [
      "[nltk_data] Downloading package punkt to\n",
      "[nltk_data]     C:\\Users\\Christos\\AppData\\Roaming\\nltk_data...\n",
      "[nltk_data]   Package punkt is already up-to-date!\n"
     ]
    },
    {
     "data": {
      "text/plain": [
       "True"
      ]
     },
     "execution_count": 24,
     "metadata": {},
     "output_type": "execute_result"
    }
   ],
   "source": [
    "import nltk\n",
    "nltk.download('punkt')"
   ]
  },
  {
   "cell_type": "code",
   "execution_count": 12,
   "id": "85d79cb8",
   "metadata": {},
   "outputs": [],
   "source": [
    "label_train=df['label']\n",
    "X_train, X_test, Y_train, Y_test = train_test_split(df['title'], label_train, test_size=0.3, random_state=1)\n"
   ]
  },
  {
   "cell_type": "code",
   "execution_count": 13,
   "id": "5c22010e",
   "metadata": {},
   "outputs": [],
   "source": [
    "tfidf_v = TfidfVectorizer()\n",
    "tfidf_X_train = tfidf_v.fit_transform(X_train)\n",
    "tfidf_X_test = tfidf_v.transform(X_test)"
   ]
  },
  {
   "cell_type": "code",
   "execution_count": 14,
   "id": "87462958",
   "metadata": {},
   "outputs": [],
   "source": [
    "def plot_confusion_matrix(cm, classes,\n",
    "                          normalize=False,\n",
    "                          title='Confusion matrix',\n",
    "                          cmap=plt.cm.Blues):\n",
    "    \n",
    "    plt.imshow(cm, interpolation='nearest', cmap=cmap)\n",
    "    plt.title(title)\n",
    "    plt.colorbar()\n",
    "    tick_marks = np.arange(len(classes))\n",
    "    plt.xticks(tick_marks, classes, rotation=45)\n",
    "    plt.yticks(tick_marks, classes)\n",
    "\n",
    "    if normalize:\n",
    "        cm = cm.astype('float') / cm.sum(axis=1)[:, np.newaxis]\n",
    "        print(\"Normalized confusion matrix\")\n",
    "    else:\n",
    "        print('Confusion matrix, without normalization')\n",
    "\n",
    "    thresh = cm.max() / 2.\n",
    "    for i, j in itertools.product(range(cm.shape[0]), range(cm.shape[1])):\n",
    "        plt.text(j, i, cm[i, j],\n",
    "                 horizontalalignment=\"center\",\n",
    "                 color=\"white\" if cm[i, j] > thresh else \"black\")\n",
    "\n",
    "    plt.tight_layout()\n",
    "    plt.ylabel('True label')\n",
    "    plt.xlabel('Predicted label')"
   ]
  },
  {
   "cell_type": "code",
   "execution_count": 15,
   "id": "7b4132a4",
   "metadata": {},
   "outputs": [
    {
     "data": {
      "text/plain": [
       "PassiveAggressiveClassifier()"
      ]
     },
     "execution_count": 15,
     "metadata": {},
     "output_type": "execute_result"
    }
   ],
   "source": [
    "classifier = PassiveAggressiveClassifier()\n",
    "classifier.fit(tfidf_X_train,Y_train)"
   ]
  },
  {
   "cell_type": "code",
   "execution_count": 16,
   "id": "ff28343b",
   "metadata": {},
   "outputs": [
    {
     "name": "stdout",
     "output_type": "stream",
     "text": [
      "Accuracy: 70.62%\n",
      "Confusion matrix, without normalization\n"
     ]
    },
    {
     "data": {
      "image/png": "[encoded data removed]",
      "text/plain": [
       "<Figure size 432x288 with 2 Axes>"
      ]
     },
     "metadata": {
      "needs_background": "light"
     },
     "output_type": "display_data"
    }
   ],
   "source": [
    "\n",
    "Y_pred = classifier.predict(tfidf_X_test)\n",
    "score = metrics.balanced_accuracy_score(Y_test, Y_pred)\n",
    "print(f'Accuracy: {round(score*100,2)}%')\n",
    "cm = metrics.confusion_matrix(Y_test, Y_pred)\n",
    "plot_confusion_matrix(cm, classes=['FAKE Data', 'REAL Data'])"
   ]
  },
  {
   "cell_type": "markdown",
   "id": "1bfd6285",
   "metadata": {},
   "source": [
    "The accuracy isn't good at all, but it's logical since we didn't do almost any preprocessing and the classifier itself is pretty basic. Also the title doesn't really give out a lot of information for our model to train on."
   ]
  },
  {
   "cell_type": "markdown",
   "id": "02cbd711",
   "metadata": {},
   "source": [
    "### FOR fr dataset when title is dropped"
   ]
  },
  {
   "cell_type": "code",
   "execution_count": 31,
   "id": "474e8f7b",
   "metadata": {},
   "outputs": [],
   "source": [
    "for x in range(len(fr_text)) :\n",
    "    corpus = []\n",
    "    review = fr_text['text'][x]\n",
    "    review = re.sub(r'[^a-zA-Z\\s]', '', review)\n",
    "    review = review.lower()\n",
    "    review = nltk.word_tokenize(review)\n",
    "    for y in review :\n",
    "        if y not in stpwrds :\n",
    "            corpus.append(lemmatizer.lemmatize(y))\n",
    "    review = ' '.join(corpus)\n",
    "    fr_text['text'][x] = review      "
   ]
  },
  {
   "cell_type": "code",
   "execution_count": 33,
   "id": "984d4c05",
   "metadata": {},
   "outputs": [],
   "source": [
    "label_train1=fr_text['label']\n",
    "X_train1, X_test1, Y_train1, Y_test1 = train_test_split(fr_text['text'], label_train1, test_size=0.3, random_state=1)\n"
   ]
  },
  {
   "cell_type": "code",
   "execution_count": 34,
   "id": "683f052a",
   "metadata": {},
   "outputs": [],
   "source": [
    "tfidf_v1 = TfidfVectorizer()\n",
    "tfidf_X_train1 = tfidf_v1.fit_transform(X_train1)\n",
    "tfidf_X_test1= tfidf_v1.transform(X_test1)"
   ]
  },
  {
   "cell_type": "code",
   "execution_count": 35,
   "id": "2eb7ba56",
   "metadata": {},
   "outputs": [],
   "source": [
    "def plot_confusion_matrix(cm, classes,\n",
    "                          normalize=False,\n",
    "                          title='Confusion matrix',\n",
    "                          cmap=plt.cm.Blues):\n",
    "    \n",
    "    plt.imshow(cm, interpolation='nearest', cmap=cmap)\n",
    "    plt.title(title)\n",
    "    plt.colorbar()\n",
    "    tick_marks = np.arange(len(classes))\n",
    "    plt.xticks(tick_marks, classes, rotation=45)\n",
    "    plt.yticks(tick_marks, classes)\n",
    "\n",
    "    if normalize:\n",
    "        cm = cm.astype('float') / cm.sum(axis=1)[:, np.newaxis]\n",
    "        print(\"Normalized confusion matrix\")\n",
    "    else:\n",
    "        print('Confusion matrix, without normalization')\n",
    "\n",
    "    thresh = cm.max() / 2.\n",
    "    for i, j in itertools.product(range(cm.shape[0]), range(cm.shape[1])):\n",
    "        plt.text(j, i, cm[i, j],\n",
    "                 horizontalalignment=\"center\",\n",
    "                 color=\"white\" if cm[i, j] > thresh else \"black\")\n",
    "\n",
    "    plt.tight_layout()\n",
    "    plt.ylabel('True label')\n",
    "    plt.xlabel('Predicted label')"
   ]
  },
  {
   "cell_type": "code",
   "execution_count": 36,
   "id": "8a42362a",
   "metadata": {},
   "outputs": [
    {
     "data": {
      "text/plain": [
       "PassiveAggressiveClassifier()"
      ]
     },
     "execution_count": 36,
     "metadata": {},
     "output_type": "execute_result"
    }
   ],
   "source": [
    "classifier1 = PassiveAggressiveClassifier()\n",
    "classifier1.fit(tfidf_X_train1,Y_train1)"
   ]
  },
  {
   "cell_type": "code",
   "execution_count": 40,
   "id": "61368047",
   "metadata": {
    "scrolled": true
   },
   "outputs": [
    {
     "name": "stdout",
     "output_type": "stream",
     "text": [
      "Accuracy: 93.43%\n",
      "Confusion matrix, without normalization\n"
     ]
    },
    {
     "data": {
      "image/png": "[encoded data removed]",
      "text/plain": [
       "<Figure size 432x288 with 2 Axes>"
      ]
     },
     "metadata": {
      "needs_background": "light"
     },
     "output_type": "display_data"
    }
   ],
   "source": [
    "Y_pred1 = classifier1.predict(tfidf_X_test1)\n",
    "score1 = metrics.balanced_accuracy_score(Y_test1, Y_pred1)\n",
    "print(f'Accuracy: {round(score1*100,2)}%')\n",
    "cm1 = metrics.confusion_matrix(Y_test1, Y_pred1)\n",
    "plot_confusion_matrix(cm1, classes=['FAKE Data', 'REAL Data'])"
   ]
  },
  {
   "cell_type": "markdown",
   "id": "7cf08889",
   "metadata": {},
   "source": [
    "We can see that training on text instead of the title is way better, but this is not the purpose of this notebook."
   ]
  },
  {
   "cell_type": "markdown",
   "id": "68e9f6a5",
   "metadata": {},
   "source": [
    "### FR dataset with titles"
   ]
  },
  {
   "cell_type": "code",
   "execution_count": 17,
   "id": "ba4b9465",
   "metadata": {},
   "outputs": [
    {
     "data": {
      "text/html": [
       "<div>\n",
       "<style scoped>\n",
       "    .dataframe tbody tr th:only-of-type {\n",
       "        vertical-align: middle;\n",
       "    }\n",
       "\n",
       "    .dataframe tbody tr th {\n",
       "        vertical-align: top;\n",
       "    }\n",
       "\n",
       "    .dataframe thead th {\n",
       "        text-align: right;\n",
       "    }\n",
       "</style>\n",
       "<table border=\"1\" class=\"dataframe\">\n",
       "  <thead>\n",
       "    <tr style=\"text-align: right;\">\n",
       "      <th></th>\n",
       "      <th>Unnamed: 0</th>\n",
       "      <th>title</th>\n",
       "      <th>text</th>\n",
       "      <th>label</th>\n",
       "    </tr>\n",
       "  </thead>\n",
       "  <tbody>\n",
       "    <tr>\n",
       "      <th>0</th>\n",
       "      <td>8476</td>\n",
       "      <td>You Can Smell Hillary’s Fear</td>\n",
       "      <td>Daniel Greenfield, a Shillman Journalism Fello...</td>\n",
       "      <td>FAKE</td>\n",
       "    </tr>\n",
       "    <tr>\n",
       "      <th>1</th>\n",
       "      <td>10294</td>\n",
       "      <td>Watch The Exact Moment Paul Ryan Committed Pol...</td>\n",
       "      <td>Google Pinterest Digg Linkedin Reddit Stumbleu...</td>\n",
       "      <td>FAKE</td>\n",
       "    </tr>\n",
       "    <tr>\n",
       "      <th>2</th>\n",
       "      <td>3608</td>\n",
       "      <td>Kerry to go to Paris in gesture of sympathy</td>\n",
       "      <td>U.S. Secretary of State John F. Kerry said Mon...</td>\n",
       "      <td>REAL</td>\n",
       "    </tr>\n",
       "    <tr>\n",
       "      <th>3</th>\n",
       "      <td>10142</td>\n",
       "      <td>Bernie supporters on Twitter erupt in anger ag...</td>\n",
       "      <td>— Kaydee King (@KaydeeKing) November 9, 2016 T...</td>\n",
       "      <td>FAKE</td>\n",
       "    </tr>\n",
       "    <tr>\n",
       "      <th>4</th>\n",
       "      <td>875</td>\n",
       "      <td>The Battle of New York: Why This Primary Matters</td>\n",
       "      <td>It's primary day in New York and front-runners...</td>\n",
       "      <td>REAL</td>\n",
       "    </tr>\n",
       "    <tr>\n",
       "      <th>...</th>\n",
       "      <td>...</td>\n",
       "      <td>...</td>\n",
       "      <td>...</td>\n",
       "      <td>...</td>\n",
       "    </tr>\n",
       "    <tr>\n",
       "      <th>6330</th>\n",
       "      <td>4490</td>\n",
       "      <td>State Department says it can't find emails fro...</td>\n",
       "      <td>The State Department told the Republican Natio...</td>\n",
       "      <td>REAL</td>\n",
       "    </tr>\n",
       "    <tr>\n",
       "      <th>6331</th>\n",
       "      <td>8062</td>\n",
       "      <td>The ‘P’ in PBS Should Stand for ‘Plutocratic’ ...</td>\n",
       "      <td>The ‘P’ in PBS Should Stand for ‘Plutocratic’ ...</td>\n",
       "      <td>FAKE</td>\n",
       "    </tr>\n",
       "    <tr>\n",
       "      <th>6332</th>\n",
       "      <td>8622</td>\n",
       "      <td>Anti-Trump Protesters Are Tools of the Oligarc...</td>\n",
       "      <td>Anti-Trump Protesters Are Tools of the Oligar...</td>\n",
       "      <td>FAKE</td>\n",
       "    </tr>\n",
       "    <tr>\n",
       "      <th>6333</th>\n",
       "      <td>4021</td>\n",
       "      <td>In Ethiopia, Obama seeks progress on peace, se...</td>\n",
       "      <td>ADDIS ABABA, Ethiopia —President Obama convene...</td>\n",
       "      <td>REAL</td>\n",
       "    </tr>\n",
       "    <tr>\n",
       "      <th>6334</th>\n",
       "      <td>4330</td>\n",
       "      <td>Jeb Bush Is Suddenly Attacking Trump. Here's W...</td>\n",
       "      <td>Jeb Bush Is Suddenly Attacking Trump. Here's W...</td>\n",
       "      <td>REAL</td>\n",
       "    </tr>\n",
       "  </tbody>\n",
       "</table>\n",
       "<p>6335 rows × 4 columns</p>\n",
       "</div>"
      ],
      "text/plain": [
       "      Unnamed: 0                                              title  \\\n",
       "0           8476                       You Can Smell Hillary’s Fear   \n",
       "1          10294  Watch The Exact Moment Paul Ryan Committed Pol...   \n",
       "2           3608        Kerry to go to Paris in gesture of sympathy   \n",
       "3          10142  Bernie supporters on Twitter erupt in anger ag...   \n",
       "4            875   The Battle of New York: Why This Primary Matters   \n",
       "...          ...                                                ...   \n",
       "6330        4490  State Department says it can't find emails fro...   \n",
       "6331        8062  The ‘P’ in PBS Should Stand for ‘Plutocratic’ ...   \n",
       "6332        8622  Anti-Trump Protesters Are Tools of the Oligarc...   \n",
       "6333        4021  In Ethiopia, Obama seeks progress on peace, se...   \n",
       "6334        4330  Jeb Bush Is Suddenly Attacking Trump. Here's W...   \n",
       "\n",
       "                                                   text label  \n",
       "0     Daniel Greenfield, a Shillman Journalism Fello...  FAKE  \n",
       "1     Google Pinterest Digg Linkedin Reddit Stumbleu...  FAKE  \n",
       "2     U.S. Secretary of State John F. Kerry said Mon...  REAL  \n",
       "3     — Kaydee King (@KaydeeKing) November 9, 2016 T...  FAKE  \n",
       "4     It's primary day in New York and front-runners...  REAL  \n",
       "...                                                 ...   ...  \n",
       "6330  The State Department told the Republican Natio...  REAL  \n",
       "6331  The ‘P’ in PBS Should Stand for ‘Plutocratic’ ...  FAKE  \n",
       "6332   Anti-Trump Protesters Are Tools of the Oligar...  FAKE  \n",
       "6333  ADDIS ABABA, Ethiopia —President Obama convene...  REAL  \n",
       "6334  Jeb Bush Is Suddenly Attacking Trump. Here's W...  REAL  \n",
       "\n",
       "[6335 rows x 4 columns]"
      ]
     },
     "execution_count": 17,
     "metadata": {},
     "output_type": "execute_result"
    }
   ],
   "source": [
    "fr_title=pd.read_csv('fake_or_real_news.csv')\n",
    "fr_title"
   ]
  },
  {
   "cell_type": "code",
   "execution_count": 18,
   "id": "76759f3a",
   "metadata": {
    "scrolled": true
   },
   "outputs": [
    {
     "data": {
      "text/html": [
       "<div>\n",
       "<style scoped>\n",
       "    .dataframe tbody tr th:only-of-type {\n",
       "        vertical-align: middle;\n",
       "    }\n",
       "\n",
       "    .dataframe tbody tr th {\n",
       "        vertical-align: top;\n",
       "    }\n",
       "\n",
       "    .dataframe thead th {\n",
       "        text-align: right;\n",
       "    }\n",
       "</style>\n",
       "<table border=\"1\" class=\"dataframe\">\n",
       "  <thead>\n",
       "    <tr style=\"text-align: right;\">\n",
       "      <th></th>\n",
       "      <th>title</th>\n",
       "      <th>label</th>\n",
       "    </tr>\n",
       "  </thead>\n",
       "  <tbody>\n",
       "    <tr>\n",
       "      <th>0</th>\n",
       "      <td>You Can Smell Hillary’s Fear</td>\n",
       "      <td>FAKE</td>\n",
       "    </tr>\n",
       "    <tr>\n",
       "      <th>1</th>\n",
       "      <td>Watch The Exact Moment Paul Ryan Committed Pol...</td>\n",
       "      <td>FAKE</td>\n",
       "    </tr>\n",
       "    <tr>\n",
       "      <th>2</th>\n",
       "      <td>Kerry to go to Paris in gesture of sympathy</td>\n",
       "      <td>REAL</td>\n",
       "    </tr>\n",
       "    <tr>\n",
       "      <th>3</th>\n",
       "      <td>Bernie supporters on Twitter erupt in anger ag...</td>\n",
       "      <td>FAKE</td>\n",
       "    </tr>\n",
       "    <tr>\n",
       "      <th>4</th>\n",
       "      <td>The Battle of New York: Why This Primary Matters</td>\n",
       "      <td>REAL</td>\n",
       "    </tr>\n",
       "    <tr>\n",
       "      <th>...</th>\n",
       "      <td>...</td>\n",
       "      <td>...</td>\n",
       "    </tr>\n",
       "    <tr>\n",
       "      <th>6330</th>\n",
       "      <td>State Department says it can't find emails fro...</td>\n",
       "      <td>REAL</td>\n",
       "    </tr>\n",
       "    <tr>\n",
       "      <th>6331</th>\n",
       "      <td>The ‘P’ in PBS Should Stand for ‘Plutocratic’ ...</td>\n",
       "      <td>FAKE</td>\n",
       "    </tr>\n",
       "    <tr>\n",
       "      <th>6332</th>\n",
       "      <td>Anti-Trump Protesters Are Tools of the Oligarc...</td>\n",
       "      <td>FAKE</td>\n",
       "    </tr>\n",
       "    <tr>\n",
       "      <th>6333</th>\n",
       "      <td>In Ethiopia, Obama seeks progress on peace, se...</td>\n",
       "      <td>REAL</td>\n",
       "    </tr>\n",
       "    <tr>\n",
       "      <th>6334</th>\n",
       "      <td>Jeb Bush Is Suddenly Attacking Trump. Here's W...</td>\n",
       "      <td>REAL</td>\n",
       "    </tr>\n",
       "  </tbody>\n",
       "</table>\n",
       "<p>6335 rows × 2 columns</p>\n",
       "</div>"
      ],
      "text/plain": [
       "                                                  title label\n",
       "0                          You Can Smell Hillary’s Fear  FAKE\n",
       "1     Watch The Exact Moment Paul Ryan Committed Pol...  FAKE\n",
       "2           Kerry to go to Paris in gesture of sympathy  REAL\n",
       "3     Bernie supporters on Twitter erupt in anger ag...  FAKE\n",
       "4      The Battle of New York: Why This Primary Matters  REAL\n",
       "...                                                 ...   ...\n",
       "6330  State Department says it can't find emails fro...  REAL\n",
       "6331  The ‘P’ in PBS Should Stand for ‘Plutocratic’ ...  FAKE\n",
       "6332  Anti-Trump Protesters Are Tools of the Oligarc...  FAKE\n",
       "6333  In Ethiopia, Obama seeks progress on peace, se...  REAL\n",
       "6334  Jeb Bush Is Suddenly Attacking Trump. Here's W...  REAL\n",
       "\n",
       "[6335 rows x 2 columns]"
      ]
     },
     "execution_count": 18,
     "metadata": {},
     "output_type": "execute_result"
    }
   ],
   "source": [
    "fr_title=fr_title.drop('text',axis=1)\n",
    "fr_title.drop(fr.filter(regex=\"Unname\"),axis=1, inplace=True)\n",
    "fr_title"
   ]
  },
  {
   "cell_type": "code",
   "execution_count": 19,
   "id": "4dac39e5",
   "metadata": {},
   "outputs": [],
   "source": [
    "for x in range(len(fr_title)) :\n",
    "    corpus = []\n",
    "    review = fr_title['title'][x]\n",
    "    review = re.sub(r'[^a-zA-Z\\s]', '', review)\n",
    "    review = review.lower()\n",
    "    review = nltk.word_tokenize(review)\n",
    "    for y in review :\n",
    "        if y not in stpwrds :\n",
    "            corpus.append(lemmatizer.lemmatize(y))\n",
    "    review = ' '.join(corpus)\n",
    "    fr_title['title'][x] = review  "
   ]
  },
  {
   "cell_type": "code",
   "execution_count": 20,
   "id": "db089e92",
   "metadata": {},
   "outputs": [],
   "source": [
    "label_train2=fr_title['label']\n",
    "X_train2, X_test2, Y_train2, Y_test2 = train_test_split(fr_title['title'], label_train2, test_size=0.3, random_state=1)\n"
   ]
  },
  {
   "cell_type": "code",
   "execution_count": 21,
   "id": "c46a92ff",
   "metadata": {},
   "outputs": [],
   "source": [
    "tfidf_v2 = TfidfVectorizer()\n",
    "tfidf_X_train2 = tfidf_v2.fit_transform(X_train2)\n",
    "tfidf_X_test2 = tfidf_v2.transform(X_test2)"
   ]
  },
  {
   "cell_type": "code",
   "execution_count": 22,
   "id": "0798afbc",
   "metadata": {},
   "outputs": [],
   "source": [
    "def plot_confusion_matrix(cm, classes,\n",
    "                          normalize=False,\n",
    "                          title='Confusion matrix',\n",
    "                          cmap=plt.cm.Blues):\n",
    "    \n",
    "    plt.imshow(cm, interpolation='nearest', cmap=cmap)\n",
    "    plt.title(title)\n",
    "    plt.colorbar()\n",
    "    tick_marks = np.arange(len(classes))\n",
    "    plt.xticks(tick_marks, classes, rotation=45)\n",
    "    plt.yticks(tick_marks, classes)\n",
    "\n",
    "    if normalize:\n",
    "        cm = cm.astype('float') / cm.sum(axis=1)[:, np.newaxis]\n",
    "        print(\"Normalized confusion matrix\")\n",
    "    else:\n",
    "        print('Confusion matrix, without normalization')\n",
    "\n",
    "    thresh = cm.max() / 2.\n",
    "    for i, j in itertools.product(range(cm.shape[0]), range(cm.shape[1])):\n",
    "        plt.text(j, i, cm[i, j],\n",
    "                 horizontalalignment=\"center\",\n",
    "                 color=\"white\" if cm[i, j] > thresh else \"black\")\n",
    "\n",
    "    plt.tight_layout()\n",
    "    plt.ylabel('True label')\n",
    "    plt.xlabel('Predicted label')"
   ]
  },
  {
   "cell_type": "code",
   "execution_count": 23,
   "id": "9be26520",
   "metadata": {},
   "outputs": [
    {
     "data": {
      "text/plain": [
       "PassiveAggressiveClassifier()"
      ]
     },
     "execution_count": 23,
     "metadata": {},
     "output_type": "execute_result"
    }
   ],
   "source": [
    "classifier2 = PassiveAggressiveClassifier()\n",
    "classifier2.fit(tfidf_X_train2,Y_train2)"
   ]
  },
  {
   "cell_type": "code",
   "execution_count": 24,
   "id": "b60c025c",
   "metadata": {
    "scrolled": true
   },
   "outputs": [
    {
     "name": "stdout",
     "output_type": "stream",
     "text": [
      "Accuracy: 78.33%\n",
      "Confusion matrix, without normalization\n"
     ]
    },
    {
     "data": {
      "image/png": "[encoded data removed]",
      "text/plain": [
       "<Figure size 432x288 with 2 Axes>"
      ]
     },
     "metadata": {
      "needs_background": "light"
     },
     "output_type": "display_data"
    }
   ],
   "source": [
    "Y_pred2 = classifier2.predict(tfidf_X_test2)\n",
    "score2 = metrics.accuracy_score(Y_test2, Y_pred2)\n",
    "print(f'Accuracy: {round(score2*100,2)}%')\n",
    "cm1 = metrics.confusion_matrix(Y_test2, Y_pred2)\n",
    "plot_confusion_matrix(cm1, classes=['FAKE Data', 'REAL Data'])"
   ]
  },
  {
   "cell_type": "code",
   "execution_count": 30,
   "id": "742b17dd",
   "metadata": {},
   "outputs": [
    {
     "data": {
      "text/plain": [
       "(6334, 14474)"
      ]
     },
     "execution_count": 30,
     "metadata": {},
     "output_type": "execute_result"
    }
   ],
   "source": [
    "np.shape(tfidf_X_test[:6334])"
   ]
  },
  {
   "cell_type": "code",
   "execution_count": 33,
   "id": "181ddaaa",
   "metadata": {},
   "outputs": [
    {
     "data": {
      "text/plain": [
       "(6959,)"
      ]
     },
     "execution_count": 33,
     "metadata": {},
     "output_type": "execute_result"
    }
   ],
   "source": [
    "np.shape(Y_test)"
   ]
  },
  {
   "cell_type": "code",
   "execution_count": 34,
   "id": "e6b2ff79",
   "metadata": {},
   "outputs": [
    {
     "data": {
      "text/plain": [
       "(1901,)"
      ]
     },
     "execution_count": 34,
     "metadata": {},
     "output_type": "execute_result"
    }
   ],
   "source": [
    "np.shape(Y_pred_df_fr)"
   ]
  },
  {
   "cell_type": "code",
   "execution_count": 29,
   "id": "61846219",
   "metadata": {},
   "outputs": [
    {
     "data": {
      "text/plain": [
       "(1901, 7492)"
      ]
     },
     "execution_count": 29,
     "metadata": {},
     "output_type": "execute_result"
    }
   ],
   "source": [
    "np.shape(tfidf_X_test2)"
   ]
  },
  {
   "cell_type": "code",
   "execution_count": 35,
   "id": "3d71b555",
   "metadata": {},
   "outputs": [
    {
     "name": "stdout",
     "output_type": "stream",
     "text": [
      "Accuracy: 38.45%\n",
      "Confusion matrix, without normalization\n"
     ]
    },
    {
     "data": {
      "image/png": "[encoded data removed]",
      "text/plain": [
       "<Figure size 432x288 with 2 Axes>"
      ]
     },
     "metadata": {
      "needs_background": "light"
     },
     "output_type": "display_data"
    }
   ],
   "source": [
    "Y_pred_df_fr = classifier2.predict(tfidf_X_test[:1901, :7492])\n",
    "score2 = metrics.accuracy_score(Y_test[:1901], Y_pred_df_fr)\n",
    "print(f'Accuracy: {round(score2*100,2)}%')\n",
    "cm1 = metrics.confusion_matrix(Y_test[:1901], Y_pred_df_fr)\n",
    "plot_confusion_matrix(cm1, classes=['FAKE Data', 'REAL Data'])"
   ]
  },
  {
   "cell_type": "code",
   "execution_count": 50,
   "id": "ad7fc08f",
   "metadata": {},
   "outputs": [
    {
     "data": {
      "text/plain": [
       "array(['FAKE', 'REAL', 'FAKE', ..., 'REAL', 'FAKE', 'FAKE'], dtype='<U4')"
      ]
     },
     "execution_count": 50,
     "metadata": {},
     "output_type": "execute_result"
    }
   ],
   "source": [
    "Y_pred_df_fr"
   ]
  },
  {
   "cell_type": "code",
   "execution_count": 96,
   "id": "6593dc0f",
   "metadata": {},
   "outputs": [
    {
     "data": {
      "text/plain": [
       "(6959, 14474)"
      ]
     },
     "execution_count": 96,
     "metadata": {},
     "output_type": "execute_result"
    }
   ],
   "source": [
    "np.shape(tfidf_X_test)"
   ]
  },
  {
   "cell_type": "code",
   "execution_count": 98,
   "id": "f0cbc305",
   "metadata": {},
   "outputs": [
    {
     "data": {
      "text/plain": [
       "(1901,)"
      ]
     },
     "execution_count": 98,
     "metadata": {},
     "output_type": "execute_result"
    }
   ],
   "source": [
    "np.shape(Y_test2)"
   ]
  },
  {
   "cell_type": "code",
   "execution_count": 99,
   "id": "1aae67ee",
   "metadata": {},
   "outputs": [
    {
     "name": "stdout",
     "output_type": "stream",
     "text": [
      "5058\n",
      "6982\n"
     ]
    }
   ],
   "source": [
    "a=np.shape(tfidf_X_test)[0] - np.shape(tfidf_X_test2)[0]\n",
    "b = np.shape(tfidf_X_test)[1] - np.shape(tfidf_X_test2)[1]\n",
    "print(a)\n",
    "print(b)\n"
   ]
  },
  {
   "cell_type": "code",
   "execution_count": 103,
   "id": "e44454b2",
   "metadata": {
    "scrolled": true
   },
   "outputs": [
    {
     "name": "stdout",
     "output_type": "stream",
     "text": [
      "[[0. 0. 0. ... 0. 0. 0.]\n",
      " [0. 0. 0. ... 0. 0. 0.]\n",
      " [0. 0. 0. ... 0. 0. 0.]\n",
      " ...\n",
      " [0. 0. 0. ... 0. 0. 0.]\n",
      " [0. 0. 0. ... 0. 0. 0.]\n",
      " [0. 0. 0. ... 0. 0. 0.]]\n"
     ]
    },
    {
     "data": {
      "text/plain": [
       "(1901, 7492)"
      ]
     },
     "execution_count": 103,
     "metadata": {},
     "output_type": "execute_result"
    }
   ],
   "source": [
    "an_array = tfidf_X_test2\n",
    "shape = np.shape(an_array)\n",
    "padded_array = np.zeros((a+1000, b+1000))\n",
    "padded_array[:shape[0],:shape[1]] = an_array.toarray()\n",
    "print(padded_array)\n",
    "shape"
   ]
  },
  {
   "cell_type": "code",
   "execution_count": 101,
   "id": "8ae9a883",
   "metadata": {},
   "outputs": [
    {
     "data": {
      "text/plain": [
       "(6058, 7982)"
      ]
     },
     "execution_count": 101,
     "metadata": {},
     "output_type": "execute_result"
    }
   ],
   "source": [
    "np.shape(padded_array)"
   ]
  },
  {
   "cell_type": "code",
   "execution_count": 93,
   "id": "c663025c",
   "metadata": {},
   "outputs": [
    {
     "ename": "ValueError",
     "evalue": "X has 7982 features per sample; expecting 14474",
     "output_type": "error",
     "traceback": [
      "\u001b[1;31m---------------------------------------------------------------------------\u001b[0m",
      "\u001b[1;31mValueError\u001b[0m                                Traceback (most recent call last)",
      "\u001b[1;32m~\\AppData\\Local\\Temp/ipykernel_6936/2987689534.py\u001b[0m in \u001b[0;36m<module>\u001b[1;34m\u001b[0m\n\u001b[1;32m----> 1\u001b[1;33m \u001b[0mY_pred_fr_df\u001b[0m \u001b[1;33m=\u001b[0m \u001b[0mclassifier\u001b[0m\u001b[1;33m.\u001b[0m\u001b[0mpredict\u001b[0m\u001b[1;33m(\u001b[0m\u001b[0mpadded_array\u001b[0m\u001b[1;33m)\u001b[0m\u001b[1;33m\u001b[0m\u001b[1;33m\u001b[0m\u001b[0m\n\u001b[0m\u001b[0;32m      2\u001b[0m \u001b[0mscore\u001b[0m \u001b[1;33m=\u001b[0m \u001b[0mmetrics\u001b[0m\u001b[1;33m.\u001b[0m\u001b[0mbalanced_accuracy_score\u001b[0m\u001b[1;33m(\u001b[0m\u001b[0mY_test2\u001b[0m\u001b[1;33m[\u001b[0m\u001b[1;33m:\u001b[0m\u001b[1;36m1901\u001b[0m\u001b[1;33m,\u001b[0m\u001b[1;33m]\u001b[0m\u001b[1;33m,\u001b[0m \u001b[0mY_pred_fr_df\u001b[0m\u001b[1;33m)\u001b[0m\u001b[1;33m\u001b[0m\u001b[1;33m\u001b[0m\u001b[0m\n\u001b[0;32m      3\u001b[0m \u001b[0mprint\u001b[0m\u001b[1;33m(\u001b[0m\u001b[1;34mf'Accuracy: {round(score*100,2)}%'\u001b[0m\u001b[1;33m)\u001b[0m\u001b[1;33m\u001b[0m\u001b[1;33m\u001b[0m\u001b[0m\n\u001b[0;32m      4\u001b[0m \u001b[0mcm\u001b[0m \u001b[1;33m=\u001b[0m \u001b[0mmetrics\u001b[0m\u001b[1;33m.\u001b[0m\u001b[0mconfusion_matrix\u001b[0m\u001b[1;33m(\u001b[0m\u001b[0mY_test2\u001b[0m\u001b[1;33m,\u001b[0m \u001b[0mY_pred_fr_df\u001b[0m\u001b[1;33m)\u001b[0m\u001b[1;33m\u001b[0m\u001b[1;33m\u001b[0m\u001b[0m\n\u001b[0;32m      5\u001b[0m \u001b[0mplot_confusion_matrix\u001b[0m\u001b[1;33m(\u001b[0m\u001b[0mcm\u001b[0m\u001b[1;33m,\u001b[0m \u001b[0mclasses\u001b[0m\u001b[1;33m=\u001b[0m\u001b[1;33m[\u001b[0m\u001b[1;34m'FAKE Data'\u001b[0m\u001b[1;33m,\u001b[0m \u001b[1;34m'REAL Data'\u001b[0m\u001b[1;33m]\u001b[0m\u001b[1;33m)\u001b[0m\u001b[1;33m\u001b[0m\u001b[1;33m\u001b[0m\u001b[0m\n",
      "\u001b[1;32m~\\AppData\\Roaming\\Python\\Python39\\site-packages\\sklearn\\linear_model\\_base.py\u001b[0m in \u001b[0;36mpredict\u001b[1;34m(self, X)\u001b[0m\n\u001b[0;32m    307\u001b[0m             \u001b[0mPredicted\u001b[0m \u001b[1;32mclass\u001b[0m \u001b[0mlabel\u001b[0m \u001b[0mper\u001b[0m \u001b[0msample\u001b[0m\u001b[1;33m.\u001b[0m\u001b[1;33m\u001b[0m\u001b[1;33m\u001b[0m\u001b[0m\n\u001b[0;32m    308\u001b[0m         \"\"\"\n\u001b[1;32m--> 309\u001b[1;33m         \u001b[0mscores\u001b[0m \u001b[1;33m=\u001b[0m \u001b[0mself\u001b[0m\u001b[1;33m.\u001b[0m\u001b[0mdecision_function\u001b[0m\u001b[1;33m(\u001b[0m\u001b[0mX\u001b[0m\u001b[1;33m)\u001b[0m\u001b[1;33m\u001b[0m\u001b[1;33m\u001b[0m\u001b[0m\n\u001b[0m\u001b[0;32m    310\u001b[0m         \u001b[1;32mif\u001b[0m \u001b[0mlen\u001b[0m\u001b[1;33m(\u001b[0m\u001b[0mscores\u001b[0m\u001b[1;33m.\u001b[0m\u001b[0mshape\u001b[0m\u001b[1;33m)\u001b[0m \u001b[1;33m==\u001b[0m \u001b[1;36m1\u001b[0m\u001b[1;33m:\u001b[0m\u001b[1;33m\u001b[0m\u001b[1;33m\u001b[0m\u001b[0m\n\u001b[0;32m    311\u001b[0m             \u001b[0mindices\u001b[0m \u001b[1;33m=\u001b[0m \u001b[1;33m(\u001b[0m\u001b[0mscores\u001b[0m \u001b[1;33m>\u001b[0m \u001b[1;36m0\u001b[0m\u001b[1;33m)\u001b[0m\u001b[1;33m.\u001b[0m\u001b[0mastype\u001b[0m\u001b[1;33m(\u001b[0m\u001b[0mint\u001b[0m\u001b[1;33m)\u001b[0m\u001b[1;33m\u001b[0m\u001b[1;33m\u001b[0m\u001b[0m\n",
      "\u001b[1;32m~\\AppData\\Roaming\\Python\\Python39\\site-packages\\sklearn\\linear_model\\_base.py\u001b[0m in \u001b[0;36mdecision_function\u001b[1;34m(self, X)\u001b[0m\n\u001b[0;32m    286\u001b[0m         \u001b[0mn_features\u001b[0m \u001b[1;33m=\u001b[0m \u001b[0mself\u001b[0m\u001b[1;33m.\u001b[0m\u001b[0mcoef_\u001b[0m\u001b[1;33m.\u001b[0m\u001b[0mshape\u001b[0m\u001b[1;33m[\u001b[0m\u001b[1;36m1\u001b[0m\u001b[1;33m]\u001b[0m\u001b[1;33m\u001b[0m\u001b[1;33m\u001b[0m\u001b[0m\n\u001b[0;32m    287\u001b[0m         \u001b[1;32mif\u001b[0m \u001b[0mX\u001b[0m\u001b[1;33m.\u001b[0m\u001b[0mshape\u001b[0m\u001b[1;33m[\u001b[0m\u001b[1;36m1\u001b[0m\u001b[1;33m]\u001b[0m \u001b[1;33m!=\u001b[0m \u001b[0mn_features\u001b[0m\u001b[1;33m:\u001b[0m\u001b[1;33m\u001b[0m\u001b[1;33m\u001b[0m\u001b[0m\n\u001b[1;32m--> 288\u001b[1;33m             raise ValueError(\"X has %d features per sample; expecting %d\"\n\u001b[0m\u001b[0;32m    289\u001b[0m                              % (X.shape[1], n_features))\n\u001b[0;32m    290\u001b[0m \u001b[1;33m\u001b[0m\u001b[0m\n",
      "\u001b[1;31mValueError\u001b[0m: X has 7982 features per sample; expecting 14474"
     ]
    }
   ],
   "source": [
    "\n",
    "Y_pred_fr_df = classifier.predict(padded_array)\n",
    "score = metrics.balanced_accuracy_score(Y_test2[:1901,], Y_pred_fr_df)\n",
    "print(f'Accuracy: {round(score*100,2)}%')\n",
    "cm = metrics.confusion_matrix(Y_test2, Y_pred_fr_df)\n",
    "plot_confusion_matrix(cm, classes=['FAKE Data', 'REAL Data'])"
   ]
  },
  {
   "cell_type": "markdown",
   "id": "cee8d218",
   "metadata": {},
   "source": [
    "# APO DW KAI KATW MAS ENDIAFEREI\n"
   ]
  },
  {
   "cell_type": "code",
   "execution_count": 51,
   "id": "c2521c46",
   "metadata": {},
   "outputs": [],
   "source": [
    "### Combine the two datasets, using fr.title feature and df.text since they follow the same format."
   ]
  },
  {
   "cell_type": "raw",
   "id": "e46b37da",
   "metadata": {
    "scrolled": true
   },
   "source": [
    "frames=[df,fr_title]\n",
    "\n",
    "\n",
    "result = pd.concat(frames,ignore_index=True)\n",
    "result.to_csv( \"result.csv\", index=False, encoding='utf-8-sig')\n",
    "result.describe"
   ]
  },
  {
   "cell_type": "code",
   "execution_count": 5,
   "id": "bdb28976",
   "metadata": {},
   "outputs": [
    {
     "data": {
      "text/html": [
       "<div>\n",
       "<style scoped>\n",
       "    .dataframe tbody tr th:only-of-type {\n",
       "        vertical-align: middle;\n",
       "    }\n",
       "\n",
       "    .dataframe tbody tr th {\n",
       "        vertical-align: top;\n",
       "    }\n",
       "\n",
       "    .dataframe thead th {\n",
       "        text-align: right;\n",
       "    }\n",
       "</style>\n",
       "<table border=\"1\" class=\"dataframe\">\n",
       "  <thead>\n",
       "    <tr style=\"text-align: right;\">\n",
       "      <th></th>\n",
       "      <th>title</th>\n",
       "      <th>label</th>\n",
       "    </tr>\n",
       "  </thead>\n",
       "  <tbody>\n",
       "    <tr>\n",
       "      <th>0</th>\n",
       "      <td>miley cyrus liam hemsworth secretly get married</td>\n",
       "      <td>FAKE</td>\n",
       "    </tr>\n",
       "    <tr>\n",
       "      <th>1</th>\n",
       "      <td>paris jackson cara delevingne enjoy night matc...</td>\n",
       "      <td>FAKE</td>\n",
       "    </tr>\n",
       "    <tr>\n",
       "      <th>2</th>\n",
       "      <td>celebrity join tax march protest donald trump</td>\n",
       "      <td>FAKE</td>\n",
       "    </tr>\n",
       "    <tr>\n",
       "      <th>3</th>\n",
       "      <td>cindy crawford daughter kaia gerber wear wig d...</td>\n",
       "      <td>FAKE</td>\n",
       "    </tr>\n",
       "    <tr>\n",
       "      <th>4</th>\n",
       "      <td>full list oscar nomination variety</td>\n",
       "      <td>FAKE</td>\n",
       "    </tr>\n",
       "    <tr>\n",
       "      <th>...</th>\n",
       "      <td>...</td>\n",
       "      <td>...</td>\n",
       "    </tr>\n",
       "    <tr>\n",
       "      <th>29526</th>\n",
       "      <td>state department say cant find email clinton s...</td>\n",
       "      <td>REAL</td>\n",
       "    </tr>\n",
       "    <tr>\n",
       "      <th>29527</th>\n",
       "      <td>p pb stand plutocratic pentagon</td>\n",
       "      <td>FAKE</td>\n",
       "    </tr>\n",
       "    <tr>\n",
       "      <th>29528</th>\n",
       "      <td>antitrump protester tool oligarchy information</td>\n",
       "      <td>FAKE</td>\n",
       "    </tr>\n",
       "    <tr>\n",
       "      <th>29529</th>\n",
       "      <td>ethiopia obama seek progress peace security ea...</td>\n",
       "      <td>REAL</td>\n",
       "    </tr>\n",
       "    <tr>\n",
       "      <th>29530</th>\n",
       "      <td>jeb bush suddenly attacking trump here matter</td>\n",
       "      <td>REAL</td>\n",
       "    </tr>\n",
       "  </tbody>\n",
       "</table>\n",
       "<p>29531 rows × 2 columns</p>\n",
       "</div>"
      ],
      "text/plain": [
       "                                                   title label\n",
       "0        miley cyrus liam hemsworth secretly get married  FAKE\n",
       "1      paris jackson cara delevingne enjoy night matc...  FAKE\n",
       "2          celebrity join tax march protest donald trump  FAKE\n",
       "3      cindy crawford daughter kaia gerber wear wig d...  FAKE\n",
       "4                     full list oscar nomination variety  FAKE\n",
       "...                                                  ...   ...\n",
       "29526  state department say cant find email clinton s...  REAL\n",
       "29527                    p pb stand plutocratic pentagon  FAKE\n",
       "29528     antitrump protester tool oligarchy information  FAKE\n",
       "29529  ethiopia obama seek progress peace security ea...  REAL\n",
       "29530      jeb bush suddenly attacking trump here matter  REAL\n",
       "\n",
       "[29531 rows x 2 columns]"
      ]
     },
     "execution_count": 5,
     "metadata": {},
     "output_type": "execute_result"
    }
   ],
   "source": [
    "result=pd.read_csv('result.csv')\n",
    "result"
   ]
  },
  {
   "cell_type": "code",
   "execution_count": 17,
   "id": "54428293",
   "metadata": {},
   "outputs": [
    {
     "name": "stdout",
     "output_type": "stream",
     "text": [
      "Checking data qualitites...\n",
      "<class 'pandas.core.frame.DataFrame'>\n",
      "RangeIndex: 29531 entries, 0 to 29530\n",
      "Data columns (total 2 columns):\n",
      " #   Column  Non-Null Count  Dtype \n",
      "---  ------  --------------  ----- \n",
      " 0   title   29531 non-null  object\n",
      " 1   label   29531 non-null  object\n",
      "dtypes: object(2)\n",
      "memory usage: 461.5+ KB\n",
      "check finished.\n"
     ]
    }
   ],
   "source": [
    "data_qualityCheck(result)"
   ]
  },
  {
   "cell_type": "code",
   "execution_count": 18,
   "id": "d34c745b",
   "metadata": {
    "scrolled": true
   },
   "outputs": [
    {
     "data": {
      "text/plain": [
       "<AxesSubplot:xlabel='label', ylabel='count'>"
      ]
     },
     "execution_count": 18,
     "metadata": {},
     "output_type": "execute_result"
    },
    {
     "data": {
      "image/png": "[encoded data removed]",
      "text/plain": [
       "<Figure size 432x288 with 1 Axes>"
      ]
     },
     "metadata": {
      "needs_background": "light"
     },
     "output_type": "display_data"
    }
   ],
   "source": [
    "create_distribution(result)"
   ]
  },
  {
   "cell_type": "code",
   "execution_count": 19,
   "id": "e741d108",
   "metadata": {},
   "outputs": [
    {
     "name": "stdout",
     "output_type": "stream",
     "text": [
      "(23196, 2) (6335, 2)\n"
     ]
    }
   ],
   "source": [
    "shape1 = np.shape(df)\n",
    "shape2 = np.shape(fr_title)\n",
    "print(shape1,shape2)"
   ]
  },
  {
   "cell_type": "code",
   "execution_count": 20,
   "id": "58789f35",
   "metadata": {
    "scrolled": true
   },
   "outputs": [
    {
     "data": {
      "text/plain": [
       "0        Did Miley Cyrus and Liam Hemsworth secretly ge...\n",
       "1        Paris Jackson & Cara Delevingne Enjoy Night Ou...\n",
       "2        Celebrities Join Tax March in Protest of Donal...\n",
       "3        Cindy Crawford's daughter Kaia Gerber wears a ...\n",
       "4            Full List of 2018 Oscar Nominations – Variety\n",
       "                               ...                        \n",
       "29526    State Department says it can't find emails fro...\n",
       "29527    The ‘P’ in PBS Should Stand for ‘Plutocratic’ ...\n",
       "29528    Anti-Trump Protesters Are Tools of the Oligarc...\n",
       "29529    In Ethiopia, Obama seeks progress on peace, se...\n",
       "29530    Jeb Bush Is Suddenly Attacking Trump. Here's W...\n",
       "Name: title, Length: 29531, dtype: object"
      ]
     },
     "execution_count": 20,
     "metadata": {},
     "output_type": "execute_result"
    }
   ],
   "source": [
    "result.title"
   ]
  },
  {
   "cell_type": "code",
   "execution_count": null,
   "id": "4e966dc2",
   "metadata": {},
   "outputs": [],
   "source": []
  },
  {
   "cell_type": "code",
   "execution_count": 7,
   "id": "cf71a5dd",
   "metadata": {
    "scrolled": false
   },
   "outputs": [],
   "source": [
    "\n",
    "for x in range(len(result)) :\n",
    "    corpus = []\n",
    "    review = result['title'][x]\n",
    "    review = re.sub(r'[^a-zA-Z\\s]', '', str(review))\n",
    "    review = review.lower()\n",
    "    review = nltk.word_tokenize(review)\n",
    "    for y in review :\n",
    "        if y not in stpwrds :\n",
    "            corpus.append(lemmatizer.lemmatize(y))\n",
    "    review = ' '.join(corpus)\n",
    "    result['title'][x] = review  "
   ]
  },
  {
   "cell_type": "code",
   "execution_count": 8,
   "id": "f34a4034",
   "metadata": {},
   "outputs": [],
   "source": [
    "label_train3=result['label']\n",
    "X_train3, X_test3, Y_train3, Y_test3 = train_test_split(result['title'], label_train3, test_size=0.3, random_state=1)\n"
   ]
  },
  {
   "cell_type": "code",
   "execution_count": 9,
   "id": "4f4c79cc",
   "metadata": {},
   "outputs": [],
   "source": [
    "tfidf_v3 = TfidfVectorizer()\n",
    "tfidf_X_train3 = tfidf_v3.fit_transform(X_train3)\n",
    "tfidf_X_test3 = tfidf_v3.transform(X_test3)"
   ]
  },
  {
   "cell_type": "code",
   "execution_count": 10,
   "id": "5ecaeba6",
   "metadata": {},
   "outputs": [],
   "source": [
    "def plot_confusion_matrix(cm, classes,\n",
    "                          normalize=False,\n",
    "                          title='Confusion matrix',\n",
    "                          cmap=plt.cm.Blues):\n",
    "    \n",
    "    plt.imshow(cm, interpolation='nearest', cmap=cmap)\n",
    "    plt.title(title)\n",
    "    plt.colorbar()\n",
    "    tick_marks = np.arange(len(classes))\n",
    "    plt.xticks(tick_marks, classes, rotation=45)\n",
    "    plt.yticks(tick_marks, classes)\n",
    "\n",
    "    if normalize:\n",
    "        cm = cm.astype('float') / cm.sum(axis=1)[:, np.newaxis]\n",
    "        print(\"Normalized confusion matrix\")\n",
    "    else:\n",
    "        print('Confusion matrix, without normalization')\n",
    "\n",
    "    thresh = cm.max() / 2.\n",
    "    for i, j in itertools.product(range(cm.shape[0]), range(cm.shape[1])):\n",
    "        plt.text(j, i, cm[i, j],\n",
    "                 horizontalalignment=\"center\",\n",
    "                 color=\"white\" if cm[i, j] > thresh else \"black\")\n",
    "\n",
    "    plt.tight_layout()\n",
    "    plt.ylabel('True label')\n",
    "    plt.xlabel('Predicted label')"
   ]
  },
  {
   "cell_type": "code",
   "execution_count": 29,
   "id": "bea9ee7c",
   "metadata": {},
   "outputs": [
    {
     "data": {
      "text/plain": [
       "PassiveAggressiveClassifier()"
      ]
     },
     "execution_count": 29,
     "metadata": {},
     "output_type": "execute_result"
    }
   ],
   "source": [
    "classifier3 = PassiveAggressiveClassifier()\n",
    "classifier3.fit(tfidf_X_train3,Y_train3)"
   ]
  },
  {
   "cell_type": "code",
   "execution_count": 30,
   "id": "d6f7c379",
   "metadata": {
    "scrolled": false
   },
   "outputs": [
    {
     "name": "stdout",
     "output_type": "stream",
     "text": [
      "Accuracy: 75.86%\n",
      "Confusion matrix, without normalization\n"
     ]
    },
    {
     "data": {
      "image/png": "[encoded data removed]",
      "text/plain": [
       "<Figure size 432x288 with 2 Axes>"
      ]
     },
     "metadata": {
      "needs_background": "light"
     },
     "output_type": "display_data"
    }
   ],
   "source": [
    "Y_pred3 = classifier3.predict(tfidf_X_test3)\n",
    "score3 = metrics.accuracy_score(Y_test3, Y_pred3)\n",
    "print(f'Accuracy: {round(score3*100,2)}%')\n",
    "cm1 = metrics.confusion_matrix(Y_test3, Y_pred3)\n",
    "plot_confusion_matrix(cm1, classes=['FAKE Data', 'REAL Data'])"
   ]
  },
  {
   "cell_type": "markdown",
   "id": "5e8e085d",
   "metadata": {},
   "source": [
    "ENTELEI H CINAMON DOULEUEUE MONO ME XGBOOSTCLASSIFIER OPOTE TO PANW EINAI MONO GIA SYGKRISH"
   ]
  },
  {
   "cell_type": "code",
   "execution_count": 31,
   "id": "523cbe28",
   "metadata": {},
   "outputs": [],
   "source": [
    "tfidf_v3 = TfidfVectorizer()\n",
    "tfidf_X_train3 = tfidf_v3.fit_transform(X_train3)\n",
    "tfidf_X_test3 = tfidf_v3.transform(X_test3)"
   ]
  },
  {
   "cell_type": "code",
   "execution_count": 11,
   "id": "c36277ff",
   "metadata": {
    "scrolled": true
   },
   "outputs": [
    {
     "name": "stdout",
     "output_type": "stream",
     "text": [
      "0.8215576851569643\n"
     ]
    }
   ],
   "source": [
    "import pandas as pd\n",
    "import xgboost as xgb\n",
    "from sklearn import datasets\n",
    "from sklearn.model_selection import train_test_split\n",
    "from xgboost import XGBClassifier\n",
    "from sklearn import preprocessing\n",
    "\n",
    "\n",
    "# load breast cancer data\n",
    "#dataset = result\n",
    "#X = dataset.title\n",
    "#y = dataset.label\n",
    "\n",
    "\n",
    "#result.label\n",
    "# split data in train and valid dataset\n",
    "#X_train, X_valid, y_train, y_valid = train_test_split(X, y, test_size=0.3, random_state=1)\n",
    "\n",
    "# introduce some data drift in valid by filtering with 'worst symmetry' feature  AYTO DE TO KANW GIATI THEWRHTIKA EXOUME HDH\n",
    "#                                                                                DHMIOURGHSEI DRIFT\n",
    "#y_valid = y_valid[X_valid.values > 0.3]\n",
    "#X_valid = X_valid.loc[X_valid.values > 0.3, :].copy()\n",
    "le = preprocessing.LabelEncoder()\n",
    "le.fit(Y_train3)\n",
    "Y_train3= le.transform(Y_train3)\n",
    "\n",
    "clf1 = XGBClassifier(use_label_encoder=False,eval_metric='logloss')\n",
    "clf1.fit(X=tfidf_X_train3, y=Y_train3, verbose=10)\n",
    "pred = clf1.predict(tfidf_X_test3)\n",
    "\n",
    "le = preprocessing.LabelEncoder()\n",
    "le.fit(Y_test3)\n",
    "Y_test3= le.transform(Y_test3)\n",
    "\n",
    "mse=balanced_accuracy_score(Y_test3, pred)\n",
    "\n",
    "print(np.sqrt(mse))"
   ]
  },
  {
   "cell_type": "raw",
   "id": "a0e9c5a7",
   "metadata": {
    "scrolled": true
   },
   "source": [
    "from cinnamon.drift import ModelDriftExplainer\n",
    "\n",
    "# initialize a drift explainer with the built XGBClassifier and fit it on train\n",
    "# and valid data\n",
    "drift_explainer = ModelDriftExplainer(model=clf1)\n",
    "drift_explainer.fit(X1=tfidf_X_train3.toarray(), X2=tfidf_X_test3.toarray(), y1=Y_train3, y2=Y_test3)"
   ]
  },
  {
   "cell_type": "code",
   "execution_count": 13,
   "id": "b70fd24e",
   "metadata": {},
   "outputs": [
    {
     "name": "stderr",
     "output_type": "stream",
     "text": [
      "C:\\Users\\Christos\\AppData\\Local\\Temp/ipykernel_6208/944316578.py:13: FutureWarning: pandas.util.testing is deprecated. Use the functions in the public API at pandas.testing instead.\n",
      "  from pandas.util.testing import assert_frame_equal\n"
     ]
    }
   ],
   "source": [
    "X_train_di = tfidf_X_train3.toarray()\n",
    "Y_train_di = Y_train3\n",
    "X_test_di = tfidf_X_test3.toarray()\n",
    "Y_test_di = Y_test3\n",
    "\n",
    "X_train_di_df= pd.DataFrame(X_train_di)\n",
    "Y_train_di_df= pd.DataFrame(Y_train_di)\n",
    "X_test_di_df= pd.DataFrame(X_test_di)\n",
    "Y_test_di_df= pd.DataFrame(Y_test_di)\n",
    "\n",
    "\n",
    "\n",
    "from pandas.util.testing import assert_frame_equal\n",
    "\n",
    "X_train_di_df.reset_index(drop=True,inplace=True)\n",
    "Y_train_di_df.reset_index(drop=True,inplace=True)\n",
    "X_test_di_df.reset_index(drop=True,inplace=True)\n",
    "Y_test_di_df.reset_index(drop=True,inplace=True)"
   ]
  },
  {
   "cell_type": "markdown",
   "id": "4b249ac2",
   "metadata": {},
   "source": [
    "EDW GYRNOUSE TO ERROR, EIXE NA KANEI ME TA SPARPSE MATRICES, OPOTE TA EKANA NP ARRAYS ENTELEI\n",
    "TA PRINTARA GIA NA TA DEITE KIOLAS\n",
    "\n",
    "\n",
    "TWRA EXW THEMA TO XGBOOST , OPOTE KANW AUTO XWRIS TO WRAPPER ALLA MOU EPISTREFEI ENA THEMA ME TO MEMORY ALLOCATION\n",
    "https://stackoverflow.com/questions/70255620/xgboost-typeerror-predict-got-an-unexpected-keyword-argument-pred-contribs\n",
    "\n",
    "\n",
    "EIDA KAI STACKOVERFLOW KAI LEGAN OTI FTAIEI H EKDOSH THS PYTHON(AN EINAI 32bit ALLA EMENA EINAI 64bit ARA DEN EINAI APO AUTO)\n",
    "\n"
   ]
  },
  {
   "cell_type": "code",
   "execution_count": 47,
   "id": "bfd9d623",
   "metadata": {
    "scrolled": false
   },
   "outputs": [
    {
     "data": {
      "text/plain": [
       "array([[0.       , 0.       , 0.       , ..., 0.       , 0.       ,\n",
       "        0.5190497],\n",
       "       [0.       , 0.       , 0.       , ..., 0.       , 0.       ,\n",
       "        0.5190497],\n",
       "       [0.       , 0.       , 0.       , ..., 0.       , 0.       ,\n",
       "        0.5190497],\n",
       "       ...,\n",
       "       [0.       , 0.       , 0.       , ..., 0.       , 0.       ,\n",
       "        0.5190497],\n",
       "       [0.       , 0.       , 0.       , ..., 0.       , 0.       ,\n",
       "        0.5190497],\n",
       "       [0.       , 0.       , 0.       , ..., 0.       , 0.       ,\n",
       "        0.5190497]], dtype=float32)"
      ]
     },
     "execution_count": 47,
     "metadata": {},
     "output_type": "execute_result"
    }
   ],
   "source": [
    "nX = tfidf_X_train3.astype(np.uint8)\n",
    "ny= Y_train3\n",
    "data =  xgb.DMatrix(nX, label = ny)\n",
    "model = xgb.train({\"learning_rate\": 0.01, \"max_depth\": 4}, data)\n",
    "model.predict(data, pred_contribs = True)"
   ]
  },
  {
   "cell_type": "code",
   "execution_count": 48,
   "id": "7ccc7f84",
   "metadata": {},
   "outputs": [],
   "source": [
    "NX1=tfidf_X_train3.toarray()\n",
    "NX2=tfidf_X_test3.toarray()\n"
   ]
  },
  {
   "cell_type": "code",
   "execution_count": 15,
   "id": "9805723d",
   "metadata": {
    "scrolled": true
   },
   "outputs": [
    {
     "data": {
      "text/plain": [
       "<cinnamon.drift.model_drift_explainer.ModelDriftExplainer at 0x2055d4bad90>"
      ]
     },
     "execution_count": 15,
     "metadata": {},
     "output_type": "execute_result"
    }
   ],
   "source": [
    "from cinnamon.drift import ModelDriftExplainer\n",
    "\n",
    "# initialize a drift explainer with the built XGBClassifier and fit it on train\n",
    "# and valid data\n",
    "drift_explainer = ModelDriftExplainer(model=clf1)\n",
    "drift_explainer.fit(X1=X_train_di_df, X2=X_test_di_df, y1=Y_train_di_df, y2=Y_test_di_df)"
   ]
  },
  {
   "cell_type": "markdown",
   "id": "bd46a68a",
   "metadata": {},
   "source": [
    "MemoryError: Unable to allocate 2.72 GiB for an array with shape (20671, 17645) and data type float64"
   ]
  },
  {
   "cell_type": "code",
   "execution_count": 16,
   "id": "f3eae5f6",
   "metadata": {
    "scrolled": true
   },
   "outputs": [
    {
     "data": {
      "image/png": "[encoded data removed]",
      "text/plain": [
       "<Figure size 504x360 with 1 Axes>"
      ]
     },
     "metadata": {
      "needs_background": "light"
     },
     "output_type": "display_data"
    }
   ],
   "source": [
    "# Distribution of logit predictions\n",
    "drift_explainer.plot_prediction_drift(bins=15)"
   ]
  },
  {
   "cell_type": "raw",
   "id": "545ba5d8",
   "metadata": {},
   "source": [
    "os.chdir(\"C:/Users/Christos/Documents/ML/FAKE NEWS DETECTION GREEK/data\")\n",
    "extension = 'csv'\n",
    "all_filenames = [i for i in glob.glob('*.{}'.format(extension))]\n",
    "all_filenames"
   ]
  },
  {
   "cell_type": "raw",
   "id": "388755a9",
   "metadata": {},
   "source": [
    "gossipfak= pd.read_csv(\"gossipcop_fake.csv\")\n",
    "gossipfak['label'] = 'FAKE'\n",
    "gossipfak.to_csv( \"gossipfake_labeled.csv\", index=False, encoding='utf-8-sig')\n",
    "gossipreal= pd.read_csv(\"gossipcop_real.csv\")\n",
    "gossipreal['label'] = 'REAL'\n",
    "gossipreal.to_csv( \"gossipreal_labeled.csv\", index=False, encoding='utf-8-sig')\n",
    "politfake= pd.read_csv(\"politifact_fake.csv\")\n",
    "politfake['label'] = 'FAKE'\n",
    "politfake.to_csv( \"politifactfake_labeled.csv\", index=False, encoding='utf-8-sig')\n",
    "politreal= pd.read_csv(\"politifact_real.csv\")\n",
    "politreal['label'] = 'REAL'\n",
    "politreal.to_csv( \"politifactreal_labeled.csv\", index=False, encoding='utf-8-sig')"
   ]
  },
  {
   "cell_type": "raw",
   "id": "483dc84d",
   "metadata": {},
   "source": [
    "#combine all files in the list\n",
    "combined_labeled_csv = pd.concat([pd.read_csv(f) for f in all_filenames ])\n",
    "#export to csv\n",
    "combined_labeled_csv.to_csv( \"combined_labeled_csv.csv\", index=False, encoding='utf-8-sig')"
   ]
  }
 ],
 "metadata": {
  "kernelspec": {
   "display_name": "Python 3 (ipykernel)",
   "language": "python",
   "name": "python3"
  },
  "language_info": {
   "codemirror_mode": {
    "name": "ipython",
    "version": 3
   },
   "file_extension": ".py",
   "mimetype": "text/x-python",
   "name": "python",
   "nbconvert_exporter": "python",
   "pygments_lexer": "ipython3",
   "version": "3.9.1"
  },
  "latex_envs": {
   "LaTeX_envs_menu_present": true,
   "autoclose": false,
   "autocomplete": true,
   "bibliofile": "biblio.bib",
   "cite_by": "apalike",
   "current_citInitial": 1,
   "eqLabelWithNumbers": true,
   "eqNumInitial": 1,
   "hotkeys": {
    "equation": "Ctrl-E",
    "itemize": "Ctrl-I"
   },
   "labels_anchors": false,
   "latex_user_defs": false,
   "report_style_numbering": false,
   "user_envs_cfg": false
  }
 },
 "nbformat": 4,
 "nbformat_minor": 5
}
